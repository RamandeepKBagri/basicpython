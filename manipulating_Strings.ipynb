{
  "nbformat": 4,
  "nbformat_minor": 0,
  "metadata": {
    "colab": {
      "name": "manipulating_Strings.ipynb",
      "provenance": [],
      "collapsed_sections": [],
      "authorship_tag": "ABX9TyO47kTJg1rbBMJZLiLLa1vW",
      "include_colab_link": true
    },
    "kernelspec": {
      "name": "python3",
      "display_name": "Python 3"
    }
  },
  "cells": [
    {
      "cell_type": "markdown",
      "metadata": {
        "id": "view-in-github",
        "colab_type": "text"
      },
      "source": [
        "<a href=\"https://colab.research.google.com/github/RamandeepKBagri/basicpython/blob/master/manipulating_Strings.ipynb\" target=\"_parent\"><img src=\"https://colab.research.google.com/assets/colab-badge.svg\" alt=\"Open In Colab\"/></a>"
      ]
    },
    {
      "cell_type": "markdown",
      "metadata": {
        "id": "gJOj7MSIj6EJ",
        "colab_type": "text"
      },
      "source": [
        "Source code: Turkel. W. J., Crymble, A., (2020). Manipulating strings in Python. Retrieved from https://programminghistorian.org/en/lessons/manipulating-strings-in-python"
      ]
    },
    {
      "cell_type": "code",
      "metadata": {
        "id": "1Tj99Ex7ghkb",
        "colab_type": "code",
        "colab": {
          "base_uri": "https://localhost:8080/",
          "height": 34
        },
        "outputId": "d7b2ecbb-5c50-4c6e-eade-dd83fe3178e1"
      },
      "source": [
        "#defining variable \n",
        "myTodaysFirstVariable = \"Hello world\"\n",
        "print(\"My assigned value to the variable is\",myTodaysFirstVariable)"
      ],
      "execution_count": 8,
      "outputs": [
        {
          "output_type": "stream",
          "text": [
            "My assigned value to the variable is Hello world\n"
          ],
          "name": "stdout"
        }
      ]
    },
    {
      "cell_type": "code",
      "metadata": {
        "id": "dvoHF7uIhkm_",
        "colab_type": "code",
        "colab": {
          "base_uri": "https://localhost:8080/",
          "height": 34
        },
        "outputId": "b5baeb58-4170-46a4-dc60-7a78169b91ec"
      },
      "source": [
        "#manipulate strings by using string operators, and it's not like variable\n",
        "helloEveryone = 'Hello'+' '+'World'              #concatenating strings\n",
        "print(helloEveryone)"
      ],
      "execution_count": 11,
      "outputs": [
        {
          "output_type": "stream",
          "text": [
            "Hello World\n"
          ],
          "name": "stdout"
        }
      ]
    },
    {
      "cell_type": "code",
      "metadata": {
        "id": "QBM6zCL4i3Qe",
        "colab_type": "code",
        "colab": {
          "base_uri": "https://localhost:8080/",
          "height": 34
        },
        "outputId": "f7691d8d-e090-4155-d5e8-6b7c0c556f75"
      },
      "source": [
        "#multiple\n",
        "helloAll = 'Hello ' * 5 + ' ' + 'all ' * 2\n",
        "helloMe = 'Hellome ' * 3 + ' ' + 'he ' * 3\n",
        "print(helloAll + 'from me  ' + helloMe)"
      ],
      "execution_count": 19,
      "outputs": [
        {
          "output_type": "stream",
          "text": [
            "Hello Hello Hello Hello Hello  all all from me  Hellome Hellome Hellome  he he he \n"
          ],
          "name": "stdout"
        }
      ]
    },
    {
      "cell_type": "code",
      "metadata": {
        "id": "F56kz6luj2kv",
        "colab_type": "code",
        "colab": {
          "base_uri": "https://localhost:8080/",
          "height": 34
        },
        "outputId": "33b254af-1ac1-47d1-c71c-89d62d739881"
      },
      "source": [
        "#Append\n",
        "helloAgain = 'Hello'\n",
        "helloAgain +=  ' '\n",
        "helloAgain += 'friends'\n",
        "print(helloAgain)"
      ],
      "execution_count": 17,
      "outputs": [
        {
          "output_type": "stream",
          "text": [
            "Hello friends\n"
          ],
          "name": "stdout"
        }
      ]
    },
    {
      "cell_type": "code",
      "metadata": {
        "id": "WR_o5MNulHVk",
        "colab_type": "code",
        "colab": {
          "base_uri": "https://localhost:8080/",
          "height": 34
        },
        "outputId": "f062f385-d148-4e3e-ec1d-a8ab885e2309"
      },
      "source": [
        "print(len(helloAll))"
      ],
      "execution_count": 21,
      "outputs": [
        {
          "output_type": "stream",
          "text": [
            "39\n"
          ],
          "name": "stdout"
        }
      ]
    },
    {
      "cell_type": "code",
      "metadata": {
        "id": "fAA7TtKtmyUK",
        "colab_type": "code",
        "colab": {
          "base_uri": "https://localhost:8080/",
          "height": 34
        },
        "outputId": "b8d2f9e1-a37f-44af-8ab8-3164e1b5133d"
      },
      "source": [
        "hello = 'Hello' + ' ' + 'all'\n",
        "message1 = hello.find('all')\n",
        "print(message1)"
      ],
      "execution_count": 22,
      "outputs": [
        {
          "output_type": "stream",
          "text": [
            "6\n"
          ],
          "name": "stdout"
        }
      ]
    },
    {
      "cell_type": "code",
      "metadata": {
        "id": "6E46sXGJnjFl",
        "colab_type": "code",
        "colab": {
          "base_uri": "https://localhost:8080/",
          "height": 34
        },
        "outputId": "dfc047c1-6f8e-436d-c8db-b24e8b44e48e"
      },
      "source": [
        "healthyHeart = 'HEALTHY HEART'           #printing in lower case\n",
        "message2 = healthyHeart.lower()\n",
        "print(message2)"
      ],
      "execution_count": 23,
      "outputs": [
        {
          "output_type": "stream",
          "text": [
            "healthy heart\n"
          ],
          "name": "stdout"
        }
      ]
    },
    {
      "cell_type": "code",
      "metadata": {
        "id": "cVjfq9lYpQ2c",
        "colab_type": "code",
        "colab": {
          "base_uri": "https://localhost:8080/",
          "height": 34
        },
        "outputId": "9e3fcff1-cba2-4cc2-efee-867172a54bc2"
      },
      "source": [
        "healthyHeart = 'HEALTHYHEART'\n",
        "message3 = healthyHeart.replace('A', 'RAMANDEEP')               #replace\n",
        "print(message3)"
      ],
      "execution_count": 24,
      "outputs": [
        {
          "output_type": "stream",
          "text": [
            "HERAMANDEEPLTHYHERAMANDEEPRT\n"
          ],
          "name": "stdout"
        }
      ]
    },
    {
      "cell_type": "code",
      "metadata": {
        "id": "qy4yb0_7pJ8X",
        "colab_type": "code",
        "colab": {
          "base_uri": "https://localhost:8080/",
          "height": 34
        },
        "outputId": "5b30e5ae-332c-45fb-a172-deee918244a5"
      },
      "source": [
        "healthyMeRaman = 'HEALTHYMERAMANDEEP'\n",
        "message3 = healthyMeRaman[0:9]                  #slicing\n",
        "print(message3)"
      ],
      "execution_count": 26,
      "outputs": [
        {
          "output_type": "stream",
          "text": [
            "HEALTHYME\n"
          ],
          "name": "stdout"
        }
      ]
    },
    {
      "cell_type": "code",
      "metadata": {
        "id": "q3_n2to4uP6g",
        "colab_type": "code",
        "colab": {
          "base_uri": "https://localhost:8080/",
          "height": 34
        },
        "outputId": "7797a231-e824-4ed1-ba9e-e86c5cc4be6c"
      },
      "source": [
        "message9 = \"Hello RAMANDEEP\"\n",
        "print(message9[:5].find(\"A\"))                            #find"
      ],
      "execution_count": 37,
      "outputs": [
        {
          "output_type": "stream",
          "text": [
            "-1\n"
          ],
          "name": "stdout"
        }
      ]
    },
    {
      "cell_type": "code",
      "metadata": {
        "id": "Qi72MYasyd2d",
        "colab_type": "code",
        "colab": {
          "base_uri": "https://localhost:8080/",
          "height": 34
        },
        "outputId": "b8f3e9c4-16e7-4d11-e71a-4e579b72f094"
      },
      "source": [
        "print('\\\"HELLO RAMANDEEP\\\"')                           #how to quote output "
      ],
      "execution_count": 39,
      "outputs": [
        {
          "output_type": "stream",
          "text": [
            "\"HELLO RAMANDEEP\"\n"
          ],
          "name": "stdout"
        }
      ]
    },
    {
      "cell_type": "code",
      "metadata": {
        "id": "b1QxbgGkzjUX",
        "colab_type": "code",
        "colab": {
          "base_uri": "https://localhost:8080/",
          "height": 51
        },
        "outputId": "1ea7e7ff-6ee4-4ed4-e239-d38d93646d37"
      },
      "source": [
        "print('hello\\tRamandeep\\nhello\\tworld')                #spacing and breaking line "
      ],
      "execution_count": 43,
      "outputs": [
        {
          "output_type": "stream",
          "text": [
            "hello\tRamandeep\n",
            "hello\tworld\n"
          ],
          "name": "stdout"
        }
      ]
    }
  ]
}